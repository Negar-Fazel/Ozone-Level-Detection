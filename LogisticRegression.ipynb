{
 "cells": [
  {
   "cell_type": "code",
   "execution_count": 1,
   "id": "b60352d6",
   "metadata": {},
   "outputs": [],
   "source": [
    "# import required libraries\n",
    "import numpy as np\n",
    "import pandas as pd\n",
    "from sklearn.impute import SimpleImputer\n",
    "from sklearn.model_selection import KFold\n",
    "from sklearn.linear_model import LogisticRegression\n",
    "from sklearn.metrics import accuracy_score\n",
    "from sklearn.model_selection import cross_val_score\n",
    "import random\n",
    "import warnings\n",
    "from sklearn.pipeline import make_pipeline\n",
    "from sklearn.preprocessing import StandardScaler\n",
    "from sklearn.svm import SVC\n",
    "from sklearn.ensemble import RandomForestClassifier\n",
    "from sklearn.neighbors import KNeighborsClassifier\n",
    "from matplotlib import pyplot\n",
    "  \n",
    "# suppress warnings\n",
    "warnings.filterwarnings('ignore')"
   ]
  },
  {
   "cell_type": "code",
   "execution_count": 2,
   "id": "3e01d651",
   "metadata": {},
   "outputs": [],
   "source": [
    "def sigmoid(x):\n",
    "    \n",
    "    sig = 1 / (1 + np.exp(-x))\n",
    "            \n",
    "    return sig"
   ]
  },
  {
   "cell_type": "code",
   "execution_count": 3,
   "id": "f935e399",
   "metadata": {},
   "outputs": [],
   "source": [
    "def Loss_function(y_true, y_predicted):\n",
    "     \n",
    "    # Calculating the loss or cost\n",
    "    \n",
    "    cost = -1 * (y_true.dot(np.log(y_predicted.T)) - (1 - y_true).dot(np.log(1 - y_predicted).T)) / m\n",
    "\n",
    "    return cost\n",
    " "
   ]
  },
  {
   "cell_type": "code",
   "execution_count": 4,
   "id": "74834e25",
   "metadata": {},
   "outputs": [],
   "source": [
    "def gradient_descent(stopping_threshold, X, y, learning_rate = 0.001):\n",
    "\n",
    " \n",
    "    W = np.random.rand(72,1)\n",
    "\n",
    "    b = np.random.rand()\n",
    "    \n",
    "    previous_cost = None\n",
    "  \n",
    "    for i in range(10) :\n",
    "\n",
    "            Z = np.dot(W.T, X) + b\n",
    "\n",
    "            A = sigmoid(Z)\n",
    "\n",
    "            dZ = A - y\n",
    "\n",
    "            dw = (1/m)*(np.dot(X,dZ.T))\n",
    "\n",
    "            db = (1/m)*(np.sum(dZ))\n",
    "\n",
    "            W = W - learning_rate * dw\n",
    "\n",
    "            b = b - learning_rate * db\n",
    "            \n",
    "\n",
    "    \n",
    "    return W,b,Z"
   ]
  },
  {
   "cell_type": "code",
   "execution_count": null,
   "id": "b77671cd",
   "metadata": {},
   "outputs": [],
   "source": [
    "def preprocess():\n",
    "    #read dataset\n",
    "    datasetread = pd.read_csv(\"Ozone Level Detection.data\",header=None)\n",
    "    #remove date part of dataset\n",
    "    data = datasetread.T[1:].to_numpy()\n",
    "    #replacing ? values with NaN\n",
    "    data[data == '?'] = np.NaN\n",
    "    #filling missing values with mean strategy\n",
    "    imputer = SimpleImputer(missing_values = np.nan, strategy='mean')\n",
    "    final =imputer.fit_transform(data)\n",
    "    return final"
   ]
  },
  {
   "cell_type": "code",
   "execution_count": 6,
   "id": "55f9cb6e",
   "metadata": {},
   "outputs": [],
   "source": [
    "def errrcount(X,W,b,y):\n",
    "    Z = np.dot(W.T, X) + b\n",
    "    A = sigmoid(Z)\n",
    "    dZ = A - y\n",
    "    E = np.sum(dZ)\n",
    "    return E"
   ]
  },
  {
   "cell_type": "code",
   "execution_count": 7,
   "id": "a6dcfcce",
   "metadata": {},
   "outputs": [],
   "source": [
    "def overcheck(X_train, y_train,X_test,y_test):\n",
    "    train_scores, test_scores = list(), list()\n",
    "    # define the tree depths to evaluate\n",
    "    values = [i for i in range(1, 51)]\n",
    "    # evaluate a decision tree for each depth\n",
    "    for i in values:\n",
    "        # configure the model\n",
    "        model = KNeighborsClassifier(n_neighbors=i)\n",
    "        # fit model on the training dataset\n",
    "        model.fit(X_train.T, y_train)\n",
    "        # evaluate on the train dataset\n",
    "        train_yhat = model.predict(X_train.T)\n",
    "        train_acc = accuracy_score(y_train, train_yhat)\n",
    "        train_scores.append(train_acc)\n",
    "        # evaluate on the test dataset\n",
    "        test_yhat = model.predict(X_test.T)\n",
    "        test_acc = accuracy_score(y_test, test_yhat)\n",
    "        test_scores.append(test_acc)\n",
    "    # plot of train and test scores vs number of neighbors\n",
    "    pyplot.plot(values, train_scores, '-o', label='Train')\n",
    "    pyplot.plot(values, test_scores, '-o', label='Test')\n",
    "    pyplot.legend()\n",
    "    pyplot.show()"
   ]
  },
  {
   "cell_type": "code",
   "execution_count": 8,
   "id": "be4d981b",
   "metadata": {},
   "outputs": [],
   "source": [
    "def KFold_cross_validation(x,y):\n",
    "\n",
    "        \n",
    "        err_train=0\n",
    "        err_test=0\n",
    "        k = 3\n",
    "        kf = KFold(n_splits=k)\n",
    "        kf.get_n_splits(x)\n",
    "        KFold(n_splits=3,random_state=None,shuffle=False)\n",
    "\n",
    "        model = LogisticRegression(solver ='liblinear')\n",
    "        \n",
    "        acc_score = []\n",
    "        \n",
    "        pipeline = make_pipeline(StandardScaler(), RandomForestClassifier(n_estimators=100, max_depth=4))\n",
    "\n",
    "        for train_index , test_index in kf.split(x.T):\n",
    "\n",
    "            X_train , X_test = X[:,train_index] , X[:,test_index]\n",
    "\n",
    "            y_train , y_test = y[0,train_index] , y[0,test_index]\n",
    "            \n",
    "            \n",
    "            model.fit(X_train.T,y_train)\n",
    "            pred_values = model.predict(X_test.T)\n",
    "            acc = accuracy_score(pred_values,y_test)\n",
    "            acc_score.append(acc)\n",
    "            \n",
    "            scores = cross_val_score(pipeline, X=X_train.T, y=y_train, cv=10, n_jobs=1)\n",
    "            print('Cross Validation accuracy: %.3f +/- %.3f' % (np.mean(scores),np.std(scores)))\n",
    "            \n",
    "\n",
    "             # Estimating weight and bias using gradient descent\n",
    "            estimated_weight, eatimated_bias,Z = gradient_descent(0.00001,X_train,y_train,0.001)\n",
    "            err_train =err_train + errrcount(X_train,estimated_weight, eatimated_bias,y_train)\n",
    "            err_test =err_test + errrcount(X_test,estimated_weight, eatimated_bias,y_test)\n",
    "            overcheck(X_train,y_train,X_test,y_test)\n",
    "            \n",
    "        err_train=err_train/3\n",
    "        err_test=err_test/3\n",
    "            \n",
    "        avg_acc_score = sum(acc_score)/k\n",
    "\n",
    "        print('accuracy of each fold - {}'.format(acc_score))\n",
    "\n",
    "        print('Avg accuracy : {}'.format(avg_acc_score))\n",
    "\n",
    "        if abs(err_test-err_train)>100:\n",
    "            print(\"Model is Overfit\")\n",
    "        elif abs(err_test-err_train)<2 and err_train>50:\n",
    "            print(\"Model is Underfit\")\n",
    "        else:\n",
    "            print(\"Model is Normal\")\n",
    "        \n",
    "        "
   ]
  },
  {
   "cell_type": "code",
   "execution_count": 9,
   "id": "fe253407",
   "metadata": {},
   "outputs": [
    {
     "name": "stdout",
     "output_type": "stream",
     "text": [
      "Cross Validation accuracy: 0.975 +/- 0.002\n"
     ]
    },
    {
     "data": {
      "image/png": "[encoded data removed]",
      "text/plain": [
       "<Figure size 432x288 with 1 Axes>"
      ]
     },
     "metadata": {
      "needs_background": "light"
     },
     "output_type": "display_data"
    },
    {
     "name": "stdout",
     "output_type": "stream",
     "text": [
      "Cross Validation accuracy: 0.975 +/- 0.002\n"
     ]
    },
    {
     "data": {
      "image/png": "[encoded data removed]",
      "text/plain": [
       "<Figure size 432x288 with 1 Axes>"
      ]
     },
     "metadata": {
      "needs_background": "light"
     },
     "output_type": "display_data"
    },
    {
     "name": "stdout",
     "output_type": "stream",
     "text": [
      "Cross Validation accuracy: 0.963 +/- 0.002\n"
     ]
    },
    {
     "data": {
      "image/png": "[encoded data removed]",
      "text/plain": [
       "<Figure size 432x288 with 1 Axes>"
      ]
     },
     "metadata": {
      "needs_background": "light"
     },
     "output_type": "display_data"
    },
    {
     "name": "stdout",
     "output_type": "stream",
     "text": [
      "accuracy of each fold - [0.950354609929078, 0.9491124260355029, 0.978698224852071]\n",
      "Avg accuracy : 0.9593884202722173\n",
      "Model is Normal\n"
     ]
    }
   ],
   "source": [
    "dataset = preprocess()\n",
    "\n",
    "X = dataset[:72]\n",
    "\n",
    "y = dataset[72:]\n",
    "\n",
    "m = X.shape[1]\n",
    "    \n",
    "KFold_cross_validation(X,y)"
   ]
  },
  {
   "cell_type": "code",
   "execution_count": null,
   "id": "e11573a3",
   "metadata": {},
   "outputs": [],
   "source": []
  }
 ],
 "metadata": {
  "kernelspec": {
   "display_name": "Python 3 (ipykernel)",
   "language": "python",
   "name": "python3"
  },
  "language_info": {
   "codemirror_mode": {
    "name": "ipython",
    "version": 3
   },
   "file_extension": ".py",
   "mimetype": "text/x-python",
   "name": "python",
   "nbconvert_exporter": "python",
   "pygments_lexer": "ipython3",
   "version": "3.9.12"
  }
 },
 "nbformat": 4,
 "nbformat_minor": 5
}
